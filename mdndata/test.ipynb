{
 "cells": [
  {
   "cell_type": "code",
   "execution_count": null,
   "metadata": {
    "collapsed": false,
    "outputExpanded": false
   },
   "source": [
    "from vdom import html, svg\n",
    "from IPython.display import display, HTML\n",
    "\n",
    "for key in dir(svg):\n",
    "    if key.startswith('_'):\n",
    "        continue\n",
    "\n",
    "    element = getattr(svg, key)\n",
    "\n",
    "    if not hasattr(element, 'examples'):\n",
    "        continue\n",
    "\n",
    "    display(html.h1(key))\n",
    "\n",
    "    for example in element.examples:\n",
    "        display(HTML(example))\n"
   ],
   "outputs": []
  }
 ],
 "nbformat": 4,
 "nbformat_minor": 0,
 "metadata": {
  "kernelspec": {
   "name": "python3",
   "language": "python",
   "display_name": "Python 3 [vdom]"
  },
  "kernel_info": {
   "name": "python3"
  },
  "language_info": {
   "pygments_lexer": "ipython3",
   "nbconvert_exporter": "python",
   "name": "python",
   "version": "3.5.3",
   "file_extension": ".py",
   "codemirror_mode": {
    "version": 3,
    "name": "ipython"
   },
   "mimetype": "text/x-python"
  }
 }
}