{
  "cells": [
    {
      "cell_type": "code",
      "source": [
        "from vdom import html, svg\n",
        "from IPython.display import display, HTML\n",
        "\n\n",
        "for key in dir(svg):\n",
        "    if key.startswith('_'):\n",
        "        continue\n",
        "\n",
        "    element = getattr(svg, key)\n",
        "\n",
        "    if not hasattr(element, 'examples'):\n",
        "        continue\n",
        "\n",
        "    display(html.h1(key))\n",
        "\n",
        "    for example in element.examples:\n",
        "        display(HTML(example))\n"
      ],
      "outputs": [
        {
          "output_type": "display_data",
          "data": {
            "application/vdom.v1+json": {
              "attributes": {},
              "tagName": "h1",
              "children": "a"
            },
            "text/plain": [
              "<h1 />"
            ]
          },
          "metadata": {}
        },
        {
          "output_type": "display_data",
          "data": {
            "text/html": [
              "<svg width=\"140\" height=\"30\" xmlns=\"http://www.w3.org/2000/svg\" \n",
              "    xmlns:xlink=\"http://www.w3.org/1999/xlink\">\n",
              "\n",
              "  <a href=\"https://developer.mozilla.org/en-US/docs/SVG\"\n",
              "      target=\"_blank\">\n",
              "    <rect height=\"30\" width=\"120\" y=\"0\" x=\"0\" rx=\"15\"/>\n",
              "    <text fill=\"white\" text-anchor=\"middle\" \n",
              "          y=\"21\" x=\"60\">SVG on MDN</text>\n",
              "  </a>\n",
              "</svg>"
            ],
            "text/plain": [
              "<IPython.core.display.HTML object>"
            ]
          },
          "metadata": {}
        },
        {
          "output_type": "display_data",
          "data": {
            "application/vdom.v1+json": {
              "attributes": {},
              "tagName": "h1",
              "children": "altGlyph"
            },
            "text/plain": [
              "<h1 />"
            ]
          },
          "metadata": {}
        },
        {
          "output_type": "display_data",
          "data": {
            "application/vdom.v1+json": {
              "attributes": {},
              "tagName": "h1",
              "children": "altGlyphDef"
            },
            "text/plain": [
              "<h1 />"
            ]
          },
          "metadata": {}
        },
        {
          "output_type": "display_data",
          "data": {
            "application/vdom.v1+json": {
              "attributes": {},
              "tagName": "h1",
              "children": "altGlyphItem"
            },
            "text/plain": [
              "<h1 />"
            ]
          },
          "metadata": {}
        },
        {
          "output_type": "display_data",
          "data": {
            "application/vdom.v1+json": {
              "attributes": {},
              "tagName": "h1",
              "children": "animate"
            },
            "text/plain": [
              "<h1 />"
            ]
          },
          "metadata": {}
        },
        {
          "output_type": "display_data",
          "data": {
            "application/vdom.v1+json": {
              "attributes": {},
              "tagName": "h1",
              "children": "animateColor"
            },
            "text/plain": [
              "<h1 />"
            ]
          },
          "metadata": {}
        },
        {
          "output_type": "display_data",
          "data": {
            "application/vdom.v1+json": {
              "attributes": {},
              "tagName": "h1",
              "children": "animateMotion"
            },
            "text/plain": [
              "<h1 />"
            ]
          },
          "metadata": {}
        },
        {
          "output_type": "display_data",
          "data": {
            "application/vdom.v1+json": {
              "attributes": {},
              "tagName": "h1",
              "children": "animateTransform"
            },
            "text/plain": [
              "<h1 />"
            ]
          },
          "metadata": {}
        },
        {
          "output_type": "display_data",
          "data": {
            "text/html": [
              "<?xml version=\"1.0\"?>\n",
              "<svg width=\"120\" height=\"120\"  viewBox=\"0 0 120 120\"\n",
              "     xmlns=\"http://www.w3.org/2000/svg\" version=\"1.1\"\n",
              "     xmlns:xlink=\"http://www.w3.org/1999/xlink\" >\n",
              "\n",
              "    <polygon points=\"60,30 90,90 30,90\">\n",
              "        <animateTransform attributeName=\"transform\"\n",
              "                          attributeType=\"XML\"\n",
              "                          type=\"rotate\"\n",
              "                          from=\"0 60 70\"\n",
              "                          to=\"360 60 70\"\n",
              "                          dur=\"10s\"\n",
              "                          repeatCount=\"indefinite\"/>\n",
              "    </polygon>\n",
              "</svg>"
            ],
            "text/plain": [
              "<IPython.core.display.HTML object>"
            ]
          },
          "metadata": {}
        },
        {
          "output_type": "display_data",
          "data": {
            "application/vdom.v1+json": {
              "attributes": {},
              "tagName": "h1",
              "children": "audio"
            },
            "text/plain": [
              "<h1 />"
            ]
          },
          "metadata": {}
        },
        {
          "output_type": "display_data",
          "data": {
            "text/html": [
              "<!-- Simple audio playback -->\n",
              "<audio\n",
              "  src=\"http://developer.mozilla.org/@api/deki/files/2926/=AudioTest_(1).ogg\"\n",
              "  autoplay>\n",
              "  Your browser does not support the <code>audio</code> element.\n",
              "</audio>"
            ],
            "text/plain": [
              "<IPython.core.display.HTML object>"
            ]
          },
          "metadata": {}
        },
        {
          "output_type": "display_data",
          "data": {
            "text/html": [
              "<audio controls=\"controls\">\n",
              "  Your browser does not support the <code>audio</code> element.\n",
              "  <source src=\"foo.wav\" type=\"audio/wav\">\n",
              "</audio>"
            ],
            "text/plain": [
              "<IPython.core.display.HTML object>"
            ]
          },
          "metadata": {}
        },
        {
          "output_type": "display_data",
          "data": {
            "application/vdom.v1+json": {
              "attributes": {},
              "tagName": "h1",
              "children": "canvas"
            },
            "text/plain": [
              "<h1 />"
            ]
          },
          "metadata": {}
        },
        {
          "output_type": "display_data",
          "data": {
            "text/html": [
              "<canvas id=\"canvas\" width=\"300\" height=\"300\">\n",
              "  An alternative text describing what your canvas displays. \n",
              "</canvas>"
            ],
            "text/plain": [
              "<IPython.core.display.HTML object>"
            ]
          },
          "metadata": {}
        },
        {
          "output_type": "display_data",
          "data": {
            "text/html": [
              "<canvas id=\"myCanvas\" moz-opaque></canvas>"
            ],
            "text/plain": [
              "<IPython.core.display.HTML object>"
            ]
          },
          "metadata": {}
        },
        {
          "output_type": "display_data",
          "data": {
            "application/vdom.v1+json": {
              "attributes": {},
              "tagName": "h1",
              "children": "circle"
            },
            "text/plain": [
              "<h1 />"
            ]
          },
          "metadata": {}
        },
        {
          "output_type": "display_data",
          "data": {
            "text/html": [
              "<svg viewBox=\"0 0 200 200\" xmlns=\"http://www.w3.org/2000/svg\">\n",
              "  <circle cx=\"100\" cy=\"100\" r=\"100\"/>\n",
              "</svg>"
            ],
            "text/plain": [
              "<IPython.core.display.HTML object>"
            ]
          },
          "metadata": {}
        },
        {
          "output_type": "display_data",
          "data": {
            "application/vdom.v1+json": {
              "attributes": {},
              "tagName": "h1",
              "children": "clipPath"
            },
            "text/plain": [
              "<h1 />"
            ]
          },
          "metadata": {}
        },
        {
          "output_type": "display_data",
          "data": {
            "text/html": [
              "<svg width=\"120\" height=\"120\" xmlns=\"http://www.w3.org/2000/svg\">\n",
              "  <defs>\n",
              "    <clipPath id=\"myClip\">\n",
              "      <circle cx=\"30\" cy=\"30\" r=\"20\"/>\n",
              "      <circle cx=\"70\" cy=\"70\" r=\"20\"/>\n",
              "    </clipPath>\n",
              "  </defs>\n",
              "\n",
              "  <rect x=\"10\" y=\"10\" width=\"100\" height=\"100\"\n",
              "      clip-path=\"url(#myClip)\"/>\n",
              "</svg>\n",
              "\n",
              "<style>\n",
              "svg {\n",
              "  border: 3px dashed #999;\n",
              "}\n",
              "svg > rect:hover {\n",
              "  fill: green;\n",
              "}\n",
              "</style>"
            ],
            "text/plain": [
              "<IPython.core.display.HTML object>"
            ]
          },
          "metadata": {}
        },
        {
          "output_type": "display_data",
          "data": {
            "text/html": [
              "<svg width=\"100\" height=\"100\" >\n",
              "  <defs>\n",
              "    <clipPath id=\"myClip\">\n",
              "      <rect x=\"0\" y=\"10\" width=\"100\" height=\"35\" />\n",
              "      <rect x=\"0\" y=\"55\" width=\"100\" height=\"35\" />\n",
              "    </clipPath>\n",
              "  </defs>\n",
              "  <circle cx=\"50\" cy=\"50\" r=\"50\" clip-path=\"url(#myClip)\" />\n",
              "</svg>"
            ],
            "text/plain": [
              "<IPython.core.display.HTML object>"
            ]
          },
          "metadata": {}
        },
        {
          "output_type": "display_data",
          "data": {
            "application/vdom.v1+json": {
              "attributes": {},
              "tagName": "h1",
              "children": "color_profile"
            },
            "text/plain": [
              "<h1 />"
            ]
          },
          "metadata": {}
        },
        {
          "output_type": "display_data",
          "data": {
            "application/vdom.v1+json": {
              "attributes": {},
              "tagName": "h1",
              "children": "cursor"
            },
            "text/plain": [
              "<h1 />"
            ]
          },
          "metadata": {}
        },
        {
          "output_type": "display_data",
          "data": {
            "application/vdom.v1+json": {
              "attributes": {},
              "tagName": "h1",
              "children": "defs"
            },
            "text/plain": [
              "<h1 />"
            ]
          },
          "metadata": {}
        },
        {
          "output_type": "display_data",
          "data": {
            "application/vdom.v1+json": {
              "attributes": {},
              "tagName": "h1",
              "children": "desc"
            },
            "text/plain": [
              "<h1 />"
            ]
          },
          "metadata": {}
        },
        {
          "output_type": "display_data",
          "data": {
            "application/vdom.v1+json": {
              "attributes": {},
              "tagName": "h1",
              "children": "discard"
            },
            "text/plain": [
              "<h1 />"
            ]
          },
          "metadata": {}
        },
        {
          "output_type": "display_data",
          "data": {
            "application/vdom.v1+json": {
              "attributes": {},
              "tagName": "h1",
              "children": "ellipse"
            },
            "text/plain": [
              "<h1 />"
            ]
          },
          "metadata": {}
        },
        {
          "output_type": "display_data",
          "data": {
            "text/html": [
              "<svg width=\"120\" height=\"120\" viewBox=\"0 0 120 120\"\n",
              "    xmlns=\"http://www.w3.org/2000/svg\">\n",
              "\n",
              "  <ellipse cx=\"60\" cy=\"60\" rx=\"50\" ry=\"25\"/>\n",
              "</svg>"
            ],
            "text/plain": [
              "<IPython.core.display.HTML object>"
            ]
          },
          "metadata": {}
        },
        {
          "output_type": "display_data",
          "data": {
            "application/vdom.v1+json": {
              "attributes": {},
              "tagName": "h1",
              "children": "feBlend"
            },
            "text/plain": [
              "<h1 />"
            ]
          },
          "metadata": {}
        },
        {
          "output_type": "display_data",
          "data": {
            "application/vdom.v1+json": {
              "attributes": {},
              "tagName": "h1",
              "children": "feColorMatrix"
            },
            "text/plain": [
              "<h1 />"
            ]
          },
          "metadata": {}
        },
        {
          "output_type": "display_data",
          "data": {
            "application/vdom.v1+json": {
              "attributes": {},
              "tagName": "h1",
              "children": "feComponentTransfer"
            },
            "text/plain": [
              "<h1 />"
            ]
          },
          "metadata": {}
        },
        {
          "output_type": "display_data",
          "data": {
            "application/vdom.v1+json": {
              "attributes": {},
              "tagName": "h1",
              "children": "feComposite"
            },
            "text/plain": [
              "<h1 />"
            ]
          },
          "metadata": {}
        },
        {
          "output_type": "display_data",
          "data": {
            "application/vdom.v1+json": {
              "attributes": {},
              "tagName": "h1",
              "children": "feConvolveMatrix"
            },
            "text/plain": [
              "<h1 />"
            ]
          },
          "metadata": {}
        },
        {
          "output_type": "display_data",
          "data": {
            "text/html": [
              "<svg viewBox=\"0 0 200 200\" xmlns=\"http://www.w3.org/2000/svg\"\n",
              "    xmlns:xlink=\"http://www.w3.org/1999/xlink\">\n",
              "  <defs>\n",
              "    <filter id=\"emboss\">\n",
              "      <feConvolveMatrix\n",
              "          kernelMatrix=\"3 0 0\n",
              "                        0 0 0\n",
              "                        0 0 -3\"/>\n",
              "    </filter>\n",
              "  </defs>\n",
              "\n",
              "  <image xlink:href=\"/files/12668/MDN.svg\" x=\"0\" y=\"0\"\n",
              "      height=\"200\" width=\"200\" style=\"filter:url(#emboss);\" />\n",
              "</svg>"
            ],
            "text/plain": [
              "<IPython.core.display.HTML object>"
            ]
          },
          "metadata": {}
        },
        {
          "output_type": "display_data",
          "data": {
            "application/vdom.v1+json": {
              "attributes": {},
              "tagName": "h1",
              "children": "feDiffuseLighting"
            },
            "text/plain": [
              "<h1 />"
            ]
          },
          "metadata": {}
        },
        {
          "output_type": "display_data",
          "data": {
            "application/vdom.v1+json": {
              "attributes": {},
              "tagName": "h1",
              "children": "feDisplacementMap"
            },
            "text/plain": [
              "<h1 />"
            ]
          },
          "metadata": {}
        },
        {
          "output_type": "display_data",
          "data": {
            "application/vdom.v1+json": {
              "attributes": {},
              "tagName": "h1",
              "children": "feDistantLight"
            },
            "text/plain": [
              "<h1 />"
            ]
          },
          "metadata": {}
        },
        {
          "output_type": "display_data",
          "data": {
            "application/vdom.v1+json": {
              "attributes": {},
              "tagName": "h1",
              "children": "feDropShadow"
            },
            "text/plain": [
              "<h1 />"
            ]
          },
          "metadata": {}
        },
        {
          "output_type": "display_data",
          "data": {
            "text/html": [
              "<svg width=\"200\" height=\"200\" xmlns=\"http://www.w3.org/2000/svg\">\n",
              "  <defs>\n",
              "    <filter id=\"shadow\">\n",
              "      <feDropShadow dx=\"4\" dy=\"8\" stdDeviation=\"4\"/>\n",
              "    </filter>\n",
              "  </defs>\n",
              "\n",
              "  <circle cx=\"50%\" cy=\"50%\" r=\"80\"\n",
              "      style=\"fill:blue; filter:url(#shadow);\"/>\n",
              "</svg>"
            ],
            "text/plain": [
              "<IPython.core.display.HTML object>"
            ]
          },
          "metadata": {}
        },
        {
          "output_type": "display_data",
          "data": {
            "application/vdom.v1+json": {
              "attributes": {},
              "tagName": "h1",
              "children": "feFlood"
            },
            "text/plain": [
              "<h1 />"
            ]
          },
          "metadata": {}
        },
        {
          "output_type": "display_data",
          "data": {
            "text/html": [
              "<svg xmlns=\"http://www.w3.org/2000/svg\" width=\"200\" height=\"200\">\n",
              "  <defs>\n",
              "    <filter id=\"floodFilter\" filterUnits=\"userSpaceOnUse\">\n",
              "      <feFlood x=\"50\" y=\"50\" width=\"100\" height=\"100\"\n",
              "          flood-color=\"green\" flood-opacity=\"0.5\"/>\n",
              "    </filter>\n",
              "  </defs>\n",
              "\n",
              "  <use style=\"filter: url(#floodFilter);\"/>\n",
              "</svg>"
            ],
            "text/plain": [
              "<IPython.core.display.HTML object>"
            ]
          },
          "metadata": {}
        },
        {
          "output_type": "display_data",
          "data": {
            "application/vdom.v1+json": {
              "attributes": {},
              "tagName": "h1",
              "children": "feFuncA"
            },
            "text/plain": [
              "<h1 />"
            ]
          },
          "metadata": {}
        },
        {
          "output_type": "display_data",
          "data": {
            "application/vdom.v1+json": {
              "attributes": {},
              "tagName": "h1",
              "children": "feFuncB"
            },
            "text/plain": [
              "<h1 />"
            ]
          },
          "metadata": {}
        },
        {
          "output_type": "display_data",
          "data": {
            "application/vdom.v1+json": {
              "attributes": {},
              "tagName": "h1",
              "children": "feFuncG"
            },
            "text/plain": [
              "<h1 />"
            ]
          },
          "metadata": {}
        },
        {
          "output_type": "display_data",
          "data": {
            "application/vdom.v1+json": {
              "attributes": {},
              "tagName": "h1",
              "children": "feFuncR"
            },
            "text/plain": [
              "<h1 />"
            ]
          },
          "metadata": {}
        },
        {
          "output_type": "display_data",
          "data": {
            "application/vdom.v1+json": {
              "attributes": {},
              "tagName": "h1",
              "children": "feGaussianBlur"
            },
            "text/plain": [
              "<h1 />"
            ]
          },
          "metadata": {}
        },
        {
          "output_type": "display_data",
          "data": {
            "text/html": [
              "<svg width=\"230\" height=\"120\"\n",
              " xmlns=\"http://www.w3.org/2000/svg\"\n",
              " xmlns:xlink=\"http://www.w3.org/1999/xlink\">\n",
              "\n",
              "  <filter id=\"blurMe\">\n",
              "    <feGaussianBlur in=\"SourceGraphic\" stdDeviation=\"5\" />\n",
              "  </filter>\n",
              "\n",
              "  <circle cx=\"60\"  cy=\"60\" r=\"50\" fill=\"green\" />\n",
              "\n",
              "  <circle cx=\"170\" cy=\"60\" r=\"50\" fill=\"green\"\n",
              "          filter=\"url(#blurMe)\" />\n",
              "</svg>"
            ],
            "text/plain": [
              "<IPython.core.display.HTML object>"
            ]
          },
          "metadata": {}
        },
        {
          "output_type": "display_data",
          "data": {
            "text/html": [
              "<svg width=\"120\" height=\"120\"\n",
              " xmlns=\"http://www.w3.org/2000/svg\"\n",
              " xmlns:xlink=\"http://www.w3.org/1999/xlink\">\n",
              "\n",
              "  <filter id=\"dropShadow\">\n",
              "    <feGaussianBlur in=\"SourceAlpha\" stdDeviation=\"3\" />\n",
              "    <feOffset dx=\"2\" dy=\"4\" />\n",
              "    <feMerge>\n",
              "        <feMergeNode />\n",
              "        <feMergeNode in=\"SourceGraphic\" />\n",
              "    </feMerge>\n",
              "  </filter>\n",
              "\n",
              "  <circle cx=\"60\"  cy=\"60\" r=\"50\" fill=\"green\"\n",
              "          filter=\"url(#dropShadow)\" />\n",
              "</svg>"
            ],
            "text/plain": [
              "<IPython.core.display.HTML object>"
            ]
          },
          "metadata": {}
        },
        {
          "output_type": "display_data",
          "data": {
            "application/vdom.v1+json": {
              "attributes": {},
              "tagName": "h1",
              "children": "feImage"
            },
            "text/plain": [
              "<h1 />"
            ]
          },
          "metadata": {}
        },
        {
          "output_type": "display_data",
          "data": {
            "text/html": [
              "<svg viewBox=\"0 0 200 200\" xmlns=\"http://www.w3.org/2000/svg\"\n",
              "    xmlns:xlink=\"http://www.w3.org/1999/xlink\">\n",
              "  <defs>\n",
              "    <filter id=\"image\">\n",
              "      <feImage xlink:href=\"/files/6457/mdn_logo_only_color.png\"/>\n",
              "    </filter>\n",
              "  </defs>\n",
              "\n",
              "  <rect x=\"10%\" y=\"10%\" width=\"80%\" height=\"80%\"\n",
              "      style=\"filter:url(#image);\"/>\n",
              "</svg>"
            ],
            "text/plain": [
              "<IPython.core.display.HTML object>"
            ]
          },
          "metadata": {}
        },
        {
          "output_type": "display_data",
          "data": {
            "application/vdom.v1+json": {
              "attributes": {},
              "tagName": "h1",
              "children": "feMerge"
            },
            "text/plain": [
              "<h1 />"
            ]
          },
          "metadata": {}
        },
        {
          "output_type": "display_data",
          "data": {
            "application/vdom.v1+json": {
              "attributes": {},
              "tagName": "h1",
              "children": "feMergeNode"
            },
            "text/plain": [
              "<h1 />"
            ]
          },
          "metadata": {}
        },
        {
          "output_type": "display_data",
          "data": {
            "text/html": [
              "<svg width=\"200\" height=\"200\"\n",
              " xmlns=\"http://www.w3.org/2000/svg\"\n",
              " xmlns:xlink=\"http://www.w3.org/1999/xlink\">\n",
              "\n\n",
              "    <filter id=\"feOffset\" x=\"-40\" y=\"-20\" width=\"100\" height=\"200\">\n",
              "        <feOffset in=\"SourceGraphic\" dx=\"60\" dy=\"60\" />\n",
              "        <feGaussianBlur in=\"SourceGraphic\" stdDeviation=\"5\" />\n",
              "        <feMerge>\n",
              "            <feMergeNode in=\"blur2\" />\n",
              "            <feMergeNode in=\"SourceGraphic\" />\n",
              "        </feMerge>\n",
              "    </filter>\n",
              "\n",
              "<rect x=\"40\" y=\"40\" width=\"100\" height=\"100\"\n",
              "       style= \"stroke : #000000; fill: green; filter: url(#feOffset);\" />\n",
              "<rect x=\"40\" y=\"40\" width=\"100\" height=\"100\"\n",
              "        style= \"stroke : #000000; fill: green; \" />\n",
              "      </svg>"
            ],
            "text/plain": [
              "<IPython.core.display.HTML object>"
            ]
          },
          "metadata": {}
        },
        {
          "output_type": "display_data",
          "data": {
            "application/vdom.v1+json": {
              "attributes": {},
              "tagName": "h1",
              "children": "feMorphology"
            },
            "text/plain": [
              "<h1 />"
            ]
          },
          "metadata": {}
        },
        {
          "output_type": "display_data",
          "data": {
            "application/vdom.v1+json": {
              "attributes": {},
              "tagName": "h1",
              "children": "feOffset"
            },
            "text/plain": [
              "<h1 />"
            ]
          },
          "metadata": {}
        },
        {
          "output_type": "display_data",
          "data": {
            "text/html": [
              "<svg width=\"200\" height=\"200\" xmlns=\"http://www.w3.org/2000/svg\">\n",
              "  <defs>\n",
              "    <filter id=\"feOffset\" x=\"-40\" y=\"-20\" width=\"100\" height=\"200\">\n",
              "      <feOffset in=\"SourceGraphic\" dx=\"60\" dy=\"60\" />\n",
              "    </filter>\n",
              "  </defs>\n",
              "\n",
              "  <rect x=\"40\" y=\"40\" width=\"100\" height=\"100\"\n",
              "      style= \"stroke : #000000; fill: green; filter: url(#feOffset);\" />\n",
              "  <rect x=\"40\" y=\"40\" width=\"100\" height=\"100\"\n",
              "      style= \"stroke : #000000; fill: green; \" />\n",
              "</svg>"
            ],
            "text/plain": [
              "<IPython.core.display.HTML object>"
            ]
          },
          "metadata": {}
        },
        {
          "output_type": "display_data",
          "data": {
            "application/vdom.v1+json": {
              "attributes": {},
              "tagName": "h1",
              "children": "fePointLight"
            },
            "text/plain": [
              "<h1 />"
            ]
          },
          "metadata": {}
        },
        {
          "output_type": "display_data",
          "data": {
            "application/vdom.v1+json": {
              "attributes": {},
              "tagName": "h1",
              "children": "feSpecularLighting"
            },
            "text/plain": [
              "<h1 />"
            ]
          },
          "metadata": {}
        },
        {
          "output_type": "display_data",
          "data": {
            "application/vdom.v1+json": {
              "attributes": {},
              "tagName": "h1",
              "children": "feSpotLight"
            },
            "text/plain": [
              "<h1 />"
            ]
          },
          "metadata": {}
        },
        {
          "output_type": "display_data",
          "data": {
            "text/html": [
              "<svg width=\"200\" height=\"200\" xmlns=\"http://www.w3.org/2000/svg\"\n",
              "    xmlns:xlink=\"http://www.w3.org/1999/xlink\">\n",
              "  <defs>\n",
              "    <filter id=\"spotlight\">\n",
              "      <feSpecularLighting result=\"spotlight\" specularConstant=\"1.5\"\n",
              "          specularExponent=\"4\" lighting-color=\"#FFF\">\n",
              "        <feSpotLight x=\"600\" y=\"600\" z=\"400\" limitingConeAngle=\"5.5\" />\n",
              "      </feSpecularLighting>\n",
              "      <feComposite in=\"SourceGraphic\" in2=\"spotlight\" operator=\"out\"\n",
              "          k1=\"0\" k2=\"1\" k3=\"1\" k4=\"0\"/>\n",
              "    </filter>\n",
              "  </defs>\n",
              "\n",
              "  <image xlink:href=\"/files/6457/mdn_logo_only_color.png\" x=\"10%\" y=\"10%\"\n",
              "      width=\"80%\" height=\"80%\" style=\"filter:url(#spotlight);\"/>\n",
              "</svg>"
            ],
            "text/plain": [
              "<IPython.core.display.HTML object>"
            ]
          },
          "metadata": {}
        },
        {
          "output_type": "display_data",
          "data": {
            "application/vdom.v1+json": {
              "attributes": {},
              "tagName": "h1",
              "children": "feTile"
            },
            "text/plain": [
              "<h1 />"
            ]
          },
          "metadata": {}
        },
        {
          "output_type": "display_data",
          "data": {
            "application/vdom.v1+json": {
              "attributes": {},
              "tagName": "h1",
              "children": "feTurbulence"
            },
            "text/plain": [
              "<h1 />"
            ]
          },
          "metadata": {}
        },
        {
          "output_type": "display_data",
          "data": {
            "application/vdom.v1+json": {
              "attributes": {},
              "tagName": "h1",
              "children": "filter"
            },
            "text/plain": [
              "<h1 />"
            ]
          },
          "metadata": {}
        },
        {
          "output_type": "display_data",
          "data": {
            "text/html": [
              "<svg width=\"230\" height=\"120\"\n",
              " xmlns=\"http://www.w3.org/2000/svg\"\n",
              " xmlns:xlink=\"http://www.w3.org/1999/xlink\">\n",
              "\n",
              " <filter id=\"blurMe\">\n",
              "  <feGaussianBlur in=\"SourceGraphic\" stdDeviation=\"5\"/>\n",
              " </filter>\n",
              "\n",
              " <circle cx=\"60\"  cy=\"60\" r=\"50\" fill=\"green\" />\n",
              "\n",
              " <circle cx=\"170\" cy=\"60\" r=\"50\" fill=\"green\"\n",
              "          filter=\"url(#blurMe)\" />\n",
              "</svg>"
            ],
            "text/plain": [
              "<IPython.core.display.HTML object>"
            ]
          },
          "metadata": {}
        },
        {
          "output_type": "display_data",
          "data": {
            "application/vdom.v1+json": {
              "attributes": {},
              "tagName": "h1",
              "children": "font"
            },
            "text/plain": [
              "<h1 />"
            ]
          },
          "metadata": {}
        },
        {
          "output_type": "display_data",
          "data": {
            "application/vdom.v1+json": {
              "attributes": {},
              "tagName": "h1",
              "children": "font_face"
            },
            "text/plain": [
              "<h1 />"
            ]
          },
          "metadata": {}
        },
        {
          "output_type": "display_data",
          "data": {
            "application/vdom.v1+json": {
              "attributes": {},
              "tagName": "h1",
              "children": "font_face_format"
            },
            "text/plain": [
              "<h1 />"
            ]
          },
          "metadata": {}
        },
        {
          "output_type": "display_data",
          "data": {
            "application/vdom.v1+json": {
              "attributes": {},
              "tagName": "h1",
              "children": "font_face_name"
            },
            "text/plain": [
              "<h1 />"
            ]
          },
          "metadata": {}
        },
        {
          "output_type": "display_data",
          "data": {
            "application/vdom.v1+json": {
              "attributes": {},
              "tagName": "h1",
              "children": "font_face_src"
            },
            "text/plain": [
              "<h1 />"
            ]
          },
          "metadata": {}
        },
        {
          "output_type": "display_data",
          "data": {
            "application/vdom.v1+json": {
              "attributes": {},
              "tagName": "h1",
              "children": "font_face_uri"
            },
            "text/plain": [
              "<h1 />"
            ]
          },
          "metadata": {}
        },
        {
          "output_type": "display_data",
          "data": {
            "application/vdom.v1+json": {
              "attributes": {},
              "tagName": "h1",
              "children": "foreignObject"
            },
            "text/plain": [
              "<h1 />"
            ]
          },
          "metadata": {}
        },
        {
          "output_type": "display_data",
          "data": {
            "application/vdom.v1+json": {
              "attributes": {},
              "tagName": "h1",
              "children": "g"
            },
            "text/plain": [
              "<h1 />"
            ]
          },
          "metadata": {}
        },
        {
          "output_type": "display_data",
          "data": {
            "text/html": [
              "<svg viewBox=\"0 0 95 50\"\n",
              "     xmlns=\"http://www.w3.org/2000/svg\">\n",
              "   <g stroke=\"green\" fill=\"white\" stroke-width=\"5\">\n",
              "     <circle cx=\"25\" cy=\"25\" r=\"15\"/>\n",
              "     <circle cx=\"40\" cy=\"25\" r=\"15\"/>\n",
              "     <circle cx=\"55\" cy=\"25\" r=\"15\"/>\n",
              "     <circle cx=\"70\" cy=\"25\" r=\"15\"/>\n",
              "   </g>\n",
              "</svg>"
            ],
            "text/plain": [
              "<IPython.core.display.HTML object>"
            ]
          },
          "metadata": {}
        },
        {
          "output_type": "display_data",
          "data": {
            "application/vdom.v1+json": {
              "attributes": {},
              "tagName": "h1",
              "children": "glyph"
            },
            "text/plain": [
              "<h1 />"
            ]
          },
          "metadata": {}
        },
        {
          "output_type": "display_data",
          "data": {
            "application/vdom.v1+json": {
              "attributes": {},
              "tagName": "h1",
              "children": "glyphRef"
            },
            "text/plain": [
              "<h1 />"
            ]
          },
          "metadata": {}
        },
        {
          "output_type": "display_data",
          "data": {
            "application/vdom.v1+json": {
              "attributes": {},
              "tagName": "h1",
              "children": "hatch"
            },
            "text/plain": [
              "<h1 />"
            ]
          },
          "metadata": {}
        },
        {
          "output_type": "display_data",
          "data": {
            "text/html": [
              "<svg width=\"200\" height=\"200\" xmlns=\"http://www.w3.org/2000/svg\">\n",
              "  <defs>\n",
              "    <hatch id=\"hatch\" hatchUnits=\"userSpaceOnUse\" pitch=\"5\"\n",
              "        rotate=\"135\">\n",
              "      <hatchpath stroke=\"#a080ff\" stroke-width=\"2\"/>\n",
              "    </hatch>\n",
              "  </defs>\n",
              "\n",
              "  <rect fill=\"url(#hatch)\" stroke=\"black\" stroke-width=\"2\"\n",
              "     x=\"10%\" y=\"10%\" width=\"80%\" height=\"80%\" />\n",
              "</svg>"
            ],
            "text/plain": [
              "<IPython.core.display.HTML object>"
            ]
          },
          "metadata": {}
        },
        {
          "output_type": "display_data",
          "data": {
            "application/vdom.v1+json": {
              "attributes": {},
              "tagName": "h1",
              "children": "hatchpath"
            },
            "text/plain": [
              "<h1 />"
            ]
          },
          "metadata": {}
        },
        {
          "output_type": "display_data",
          "data": {
            "application/vdom.v1+json": {
              "attributes": {},
              "tagName": "h1",
              "children": "hkern"
            },
            "text/plain": [
              "<h1 />"
            ]
          },
          "metadata": {}
        },
        {
          "output_type": "display_data",
          "data": {
            "application/vdom.v1+json": {
              "attributes": {},
              "tagName": "h1",
              "children": "iframe"
            },
            "text/plain": [
              "<h1 />"
            ]
          },
          "metadata": {}
        },
        {
          "output_type": "display_data",
          "data": {
            "text/html": [
              "<iframe src=\"https://mdn-samples.mozilla.org/snippets/html/iframe-simple-contents.html\" title=\"iframe example 1\" width=\"400\" height=\"300\">\n",
              "  <p>Your browser does not support iframes.</p>\n",
              "</iframe>"
            ],
            "text/plain": [
              "<IPython.core.display.HTML object>"
            ]
          },
          "metadata": {}
        },
        {
          "output_type": "display_data",
          "data": {
            "text/html": [
              "<base target=\"_blank\">\n",
              "<iframe id=\"Example2\"\n",
              "    title=\"Example2\"\n",
              "    width=\"400\"\n",
              "    height=\"300\"\n",
              "    frameborder=\"0\"\n",
              "    scrolling=\"no\"\n",
              "    marginheight=\"0\"\n",
              "    marginwidth=\"0\"\n",
              "    src=\"https://maps.google.com/maps?f=q&amp;source=s_q&amp;hl=es-419&amp;geocode=&amp;q=buenos+aires&amp;sll=37.0625,-95.677068&amp;sspn=38.638819,80.859375&amp;t=h&amp;ie=UTF8&amp;hq=&amp;hnear=Buenos+Aires,+Argentina&amp;z=11&amp;ll=-34.603723,-58.381593&amp;output=embed\">\n",
              "</iframe>\n",
              "\n",
              "<br>\n",
              "<small>\n",
              "  <a href=\"https://maps.google.com/maps?f=q&amp;source=embed&amp;hl=es-419&amp;geocode=&amp;q=buenos+aires&amp;sll=37.0625,-95.677068&amp;sspn=38.638819,80.859375&amp;t=h&amp;ie=UTF8&amp;hq=&amp;hnear=Buenos+Aires,+Argentina&amp;z=11&amp;ll=-34.603723,-58.381593\" style=\"color:#0000FF;text-align:left\"> See bigger map </a>\n",
              "</small>"
            ],
            "text/plain": [
              "<IPython.core.display.HTML object>"
            ]
          },
          "metadata": {}
        },
        {
          "output_type": "display_data",
          "data": {
            "application/vdom.v1+json": {
              "attributes": {},
              "tagName": "h1",
              "children": "image"
            },
            "text/plain": [
              "<h1 />"
            ]
          },
          "metadata": {}
        },
        {
          "output_type": "display_data",
          "data": {
            "application/vdom.v1+json": {
              "attributes": {},
              "tagName": "h1",
              "children": "line"
            },
            "text/plain": [
              "<h1 />"
            ]
          },
          "metadata": {}
        },
        {
          "output_type": "display_data",
          "data": {
            "text/html": [
              "<svg width=\"120\" height=\"120\" viewBox=\"0 0 120 120\"\n",
              "    xmlns=\"http://www.w3.org/2000/svg\">\n",
              "\n",
              "  <line x1=\"20\" y1=\"100\" x2=\"100\" y2=\"20\"\n",
              "      stroke-width=\"2\" stroke=\"black\"/>\n",
              "</svg>"
            ],
            "text/plain": [
              "<IPython.core.display.HTML object>"
            ]
          },
          "metadata": {}
        },
        {
          "output_type": "display_data",
          "data": {
            "text/html": [
              "<svg width=\"120\" height=\"120\" viewBox=\"0 0 120 120\"\n",
              "    xmlns=\"http://www.w3.org/2000/svg\">\n",
              "  <line x1=\"20\" y1=\"100\" x2=\"100\" y2=\"100\"\n",
              "      stroke-width=\"2\" stroke=\"black\" transform=\"rotate(-45 20 100)\"/>\n",
              "</svg>"
            ],
            "text/plain": [
              "<IPython.core.display.HTML object>"
            ]
          },
          "metadata": {}
        },
        {
          "output_type": "display_data",
          "data": {
            "application/vdom.v1+json": {
              "attributes": {},
              "tagName": "h1",
              "children": "linearGradient"
            },
            "text/plain": [
              "<h1 />"
            ]
          },
          "metadata": {}
        },
        {
          "output_type": "display_data",
          "data": {
            "text/html": [
              "<svg width=\"120\" height=\"120\" xmlns=\"http://www.w3.org/2000/svg\">\n",
              "    <defs>\n",
              "        <linearGradient id=\"MyGradient\">\n",
              "            <stop offset=\"5%\"  stop-color=\"green\"/>\n",
              "            <stop offset=\"95%\" stop-color=\"gold\"/>\n",
              "        </linearGradient>\n",
              "    </defs>\n",
              "\n",
              "    <rect fill=\"url(#MyGradient)\"\n",
              "          x=\"10\" y=\"10\" width=\"100\" height=\"100\"/>\n",
              "</svg>"
            ],
            "text/plain": [
              "<IPython.core.display.HTML object>"
            ]
          },
          "metadata": {}
        },
        {
          "output_type": "display_data",
          "data": {
            "application/vdom.v1+json": {
              "attributes": {},
              "tagName": "h1",
              "children": "marker"
            },
            "text/plain": [
              "<h1 />"
            ]
          },
          "metadata": {}
        },
        {
          "output_type": "display_data",
          "data": {
            "application/vdom.v1+json": {
              "attributes": {},
              "tagName": "h1",
              "children": "mask"
            },
            "text/plain": [
              "<h1 />"
            ]
          },
          "metadata": {}
        },
        {
          "output_type": "display_data",
          "data": {
            "application/vdom.v1+json": {
              "attributes": {},
              "tagName": "h1",
              "children": "mesh"
            },
            "text/plain": [
              "<h1 />"
            ]
          },
          "metadata": {}
        },
        {
          "output_type": "display_data",
          "data": {
            "application/vdom.v1+json": {
              "attributes": {},
              "tagName": "h1",
              "children": "meshgradient"
            },
            "text/plain": [
              "<h1 />"
            ]
          },
          "metadata": {}
        },
        {
          "output_type": "display_data",
          "data": {
            "application/vdom.v1+json": {
              "attributes": {},
              "tagName": "h1",
              "children": "meshpatch"
            },
            "text/plain": [
              "<h1 />"
            ]
          },
          "metadata": {}
        },
        {
          "output_type": "display_data",
          "data": {
            "application/vdom.v1+json": {
              "attributes": {},
              "tagName": "h1",
              "children": "meshrow"
            },
            "text/plain": [
              "<h1 />"
            ]
          },
          "metadata": {}
        },
        {
          "output_type": "display_data",
          "data": {
            "application/vdom.v1+json": {
              "attributes": {},
              "tagName": "h1",
              "children": "metadata"
            },
            "text/plain": [
              "<h1 />"
            ]
          },
          "metadata": {}
        },
        {
          "output_type": "display_data",
          "data": {
            "application/vdom.v1+json": {
              "attributes": {},
              "tagName": "h1",
              "children": "missing_glyph"
            },
            "text/plain": [
              "<h1 />"
            ]
          },
          "metadata": {}
        },
        {
          "output_type": "display_data",
          "data": {
            "application/vdom.v1+json": {
              "attributes": {},
              "tagName": "h1",
              "children": "mpath"
            },
            "text/plain": [
              "<h1 />"
            ]
          },
          "metadata": {}
        },
        {
          "output_type": "display_data",
          "data": {
            "application/vdom.v1+json": {
              "attributes": {},
              "tagName": "h1",
              "children": "path"
            },
            "text/plain": [
              "<h1 />"
            ]
          },
          "metadata": {}
        },
        {
          "output_type": "display_data",
          "data": {
            "text/html": [
              "<svg width=\"100%\" height=\"100%\" viewBox=\"0 0 400 400\"\n",
              "     xmlns=\"http://www.w3.org/2000/svg\">\n",
              "\n",
              "  <path d=\"M 100 100 L 300 100 L 200 300 z\"\n",
              "        fill=\"orange\" stroke=\"black\" stroke-width=\"3\" />\n",
              "</svg>"
            ],
            "text/plain": [
              "<IPython.core.display.HTML object>"
            ]
          },
          "metadata": {}
        },
        {
          "output_type": "display_data",
          "data": {
            "application/vdom.v1+json": {
              "attributes": {},
              "tagName": "h1",
              "children": "pattern"
            },
            "text/plain": [
              "<h1 />"
            ]
          },
          "metadata": {}
        },
        {
          "output_type": "display_data",
          "data": {
            "application/vdom.v1+json": {
              "attributes": {},
              "tagName": "h1",
              "children": "polygon"
            },
            "text/plain": [
              "<h1 />"
            ]
          },
          "metadata": {}
        },
        {
          "output_type": "display_data",
          "data": {
            "text/html": [
              "<svg width=\"120\" height=\"120\" viewBox=\"0 0 120 120\"\n",
              "    xmlns=\"http://www.w3.org/2000/svg\">\n",
              "\n",
              "  <polygon points=\"60,20 100,40 100,80 60,100 20,80 20,40\"/>\n",
              "</svg>"
            ],
            "text/plain": [
              "<IPython.core.display.HTML object>"
            ]
          },
          "metadata": {}
        },
        {
          "output_type": "display_data",
          "data": {
            "application/vdom.v1+json": {
              "attributes": {},
              "tagName": "h1",
              "children": "polyline"
            },
            "text/plain": [
              "<h1 />"
            ]
          },
          "metadata": {}
        },
        {
          "output_type": "display_data",
          "data": {
            "text/html": [
              "<svg width=\"120\" height=\"120\" xmlns=\"http://www.w3.org/2000/svg\">\n",
              "  <polyline fill=\"none\" stroke=\"black\" \n",
              "      points=\"20,100 40,60 70,80 100,20\"/>\n",
              "</svg>"
            ],
            "text/plain": [
              "<IPython.core.display.HTML object>"
            ]
          },
          "metadata": {}
        },
        {
          "output_type": "display_data",
          "data": {
            "text/html": [
              "<div class=\"contain-demo\">\n",
              "   <svg width=\"150\" height=\"200\">\n",
              "     <desc>\n",
              "       First orange polyline demonstrating\n",
              "       white fill on open path.\n",
              "     </desc>\n",
              "     <polyline\n",
              "         points=\"0,40 40,40 40,80 80,80 80,120 120,120 120,160\"\n",
              "         fill=\"white\" stroke=\"#D07735\" stroke-width=\"6\" />\n",
              "   </svg>\n",
              "   <svg width=\"150\" height=\"200\">\n",
              "     <desc>\n",
              "       Second orange polyline demonstrating\n",
              "       yellow fill on open path.\n",
              "     </desc>\n",
              "     <polyline\n",
              "         points=\"0,40 40,40 40,80 80,80 80,120 120,120 120,160\"\n",
              "         fill=\"#F9F38C\" stroke=\"#D07735\" stroke-width=\"6\" />\n",
              "   </svg>\n",
              " </div>\n",
              "<p class=\"p\">\n",
              "  Demo by Joni Trythall.\n",
              "  <a href=\"http://sitepoint.com/understanding-svg-fill-rule-property\">See article</a>.\n",
              "</p>"
            ],
            "text/plain": [
              "<IPython.core.display.HTML object>"
            ]
          },
          "metadata": {}
        },
        {
          "output_type": "display_data",
          "data": {
            "application/vdom.v1+json": {
              "attributes": {},
              "tagName": "h1",
              "children": "radialGradient"
            },
            "text/plain": [
              "<h1 />"
            ]
          },
          "metadata": {}
        },
        {
          "output_type": "display_data",
          "data": {
            "text/html": [
              "<svg width=\"120\" height=\"120\" viewBox=\"0 0 120 120\"\n",
              "   xmlns=\"http://www.w3.org/2000/svg\">\n",
              "\n",
              "  <defs>\n",
              "    <radialGradient id=\"exampleGradient\">\n",
              "      <stop offset=\"10%\" stop-color=\"gold\"/>\n",
              "      <stop offset=\"95%\" stop-color=\"green\"/>\n",
              "    </radialGradient>\n",
              "  </defs>\n",
              "\n",
              "  <circle fill=\"url(#exampleGradient)\" cx=\"60\" cy=\"60\" r=\"50\"/>\n",
              "</svg>"
            ],
            "text/plain": [
              "<IPython.core.display.HTML object>"
            ]
          },
          "metadata": {}
        },
        {
          "output_type": "display_data",
          "data": {
            "application/vdom.v1+json": {
              "attributes": {},
              "tagName": "h1",
              "children": "rect"
            },
            "text/plain": [
              "<h1 />"
            ]
          },
          "metadata": {}
        },
        {
          "output_type": "display_data",
          "data": {
            "application/vdom.v1+json": {
              "attributes": {},
              "tagName": "h1",
              "children": "script"
            },
            "text/plain": [
              "<h1 />"
            ]
          },
          "metadata": {}
        },
        {
          "output_type": "display_data",
          "data": {
            "text/html": [
              "<svg width=\"100%\" height=\"100%\" viewBox=\"0 0 100 100\"\n",
              "     xmlns=\"http://www.w3.org/2000/svg\">\n",
              "  <script type=\"text/javascript\">\n",
              "    // <![CDATA[\n",
              "    function change(evt) {\n",
              "      var target = evt.target;\n",
              "      var radius = target.getAttribute(\"r\");\n",
              "\n",
              "      if (radius == 15) {\n",
              "        radius = 45;\n",
              "      } else {\n",
              "        radius = 15;\n",
              "      }\n",
              "\n",
              "      target.setAttribute(\"r\",radius);\n",
              "   }\n",
              "   // ]]>\n",
              "  </script>\n",
              "\n",
              "  <circle cx=\"50\" cy=\"50\" r=\"45\" fill=\"green\"\n",
              "          onclick=\"change(evt)\" />\n",
              "</svg>"
            ],
            "text/plain": [
              "<IPython.core.display.HTML object>"
            ]
          },
          "metadata": {}
        },
        {
          "output_type": "display_data",
          "data": {
            "application/vdom.v1+json": {
              "attributes": {},
              "tagName": "h1",
              "children": "set"
            },
            "text/plain": [
              "<h1 />"
            ]
          },
          "metadata": {}
        },
        {
          "output_type": "display_data",
          "data": {
            "application/vdom.v1+json": {
              "attributes": {},
              "tagName": "h1",
              "children": "solidcolor"
            },
            "text/plain": [
              "<h1 />"
            ]
          },
          "metadata": {}
        },
        {
          "output_type": "display_data",
          "data": {
            "text/html": [
              "<svg xmlns=\"http://www.w3.org/2000/svg\" viewBox=\"0 0 300 200\" height=\"150\">\n",
              "  <defs>\n",
              "    <!-- solidColor is experimental. -->\n",
              "    <solidcolor id=\"myColor\" solid-color=\"gold\" solid-opacity=\"0.8\"/>\n",
              "      \n",
              "    <!-- linearGradient with a single color stop is a less elegant way to \n",
              "         achieve the same effect, but it works in current browsers. -->\n",
              "    <linearGradient id=\"myGradient\">\n",
              "      <stop offset=\"0\" stop-color=\"green\" />\n",
              "    </linearGradient>\n",
              "  </defs>\n",
              "   \n",
              "  <text x=\"10\" y=\"20\">Circles colored with solidColor</text>\n",
              "  <circle cx=\"150\" cy=\"65\" r=\"35\" stroke-width=\"2\" stroke=\"url(#myColor)\"\n",
              "      fill=\"white\"/>\n",
              "  <circle cx=\"50\" cy=\"65\" r=\"35\" fill=\"url(#myColor)\"/>\n",
              "\n",
              "  <text x=\"10\" y=\"120\">Circles colored with linearGradient</text>\n",
              "  <circle cx=\"150\" cy=\"165\" r=\"35\" stroke-width=\"2\" stroke=\"url(#myGradient)\"\n",
              "      fill=\"white\"/>\n",
              "  <circle cx=\"50\" cy=\"165\" r=\"35\" fill=\"url(#myGradient)\"/>\n",
              "</svg>"
            ],
            "text/plain": [
              "<IPython.core.display.HTML object>"
            ]
          },
          "metadata": {}
        },
        {
          "output_type": "display_data",
          "data": {
            "application/vdom.v1+json": {
              "attributes": {},
              "tagName": "h1",
              "children": "stop"
            },
            "text/plain": [
              "<h1 />"
            ]
          },
          "metadata": {}
        },
        {
          "output_type": "display_data",
          "data": {
            "text/html": [
              "<svg width=\"100%\" height=\"100%\" viewBox=\"0 0 80 40\"\n",
              "     xmlns=\"http://www.w3.org/2000/svg\">\n",
              "\n",
              "  <defs>\n",
              "    <linearGradient id=\"MyGradient\">\n",
              "      <stop offset=\"5%\" stop-color=\"#F60\" />\n",
              "      <stop offset=\"95%\" stop-color=\"#FF6\" />\n",
              "    </linearGradient>\n",
              "  </defs>\n",
              "\n",
              "  <!-- Outline the drawing area in black -->\n",
              "  <rect fill=\"none\" stroke=\"black\" \n",
              "        x=\"0.5\" y=\"0.5\" width=\"79\" height=\"39\"/>\n",
              "\n",
              "  <!-- The rectangle is filled using a linear gradient -->\n",
              "  <rect fill=\"url(#MyGradient)\" stroke=\"black\" stroke-width=\"1\"  \n",
              "        x=\"10\" y=\"10\" width=\"60\" height=\"20\"/>\n",
              "</svg>"
            ],
            "text/plain": [
              "<IPython.core.display.HTML object>"
            ]
          },
          "metadata": {}
        },
        {
          "output_type": "display_data",
          "data": {
            "application/vdom.v1+json": {
              "attributes": {},
              "tagName": "h1",
              "children": "style"
            },
            "text/plain": [
              "<h1 />"
            ]
          },
          "metadata": {}
        },
        {
          "output_type": "display_data",
          "data": {
            "text/html": [
              "<svg width=\"100%\" height=\"100%\" viewBox=\"0 0 100 100\"\n",
              "     xmlns=\"http://www.w3.org/2000/svg\">\n",
              "  <style>\n",
              "    /* <![CDATA[ */\n",
              "    circle {\n",
              "      fill: orange;\n",
              "      stroke: black;\n",
              "      stroke-width: 10px; /* Note: The value of a pixel depends\n",
              "                             on the view box */\n",
              "    }\n",
              "    /* ]]> */\n",
              "  </style>\n",
              "\n",
              "  <circle cx=\"50\" cy=\"50\" r=\"40\" />\n",
              "</svg>"
            ],
            "text/plain": [
              "<IPython.core.display.HTML object>"
            ]
          },
          "metadata": {}
        },
        {
          "output_type": "display_data",
          "data": {
            "application/vdom.v1+json": {
              "attributes": {},
              "tagName": "h1",
              "children": "svg"
            },
            "text/plain": [
              "<h1 />"
            ]
          },
          "metadata": {}
        },
        {
          "output_type": "display_data",
          "data": {
            "text/html": [
              "<!DOCTYPE html>\n",
              "<html>\n",
              "<head>\n",
              "  <meta charset=\"UTF-8\" />\n",
              "  <title>HTML/SVG Example</title>\n",
              "</head>\n",
              "\n",
              "<body>\n",
              "\n",
              "  <svg xmlns=\"http://www.w3.org/2000/svg\"\n",
              "       width=\"150\" height=\"100\" viewBox=\"0 0 3 2\">\n",
              "    <rect width=\"1\" height=\"2\" x=\"0\" fill=\"#008d46\" />\n",
              "    <rect width=\"1\" height=\"2\" x=\"1\" fill=\"#ffffff\" />\n",
              "    <rect width=\"1\" height=\"2\" x=\"2\" fill=\"#d2232c\" />\n",
              "  </svg>\n",
              "\n",
              "</body>\n",
              "</html>"
            ],
            "text/plain": [
              "<IPython.core.display.HTML object>"
            ]
          },
          "metadata": {}
        },
        {
          "output_type": "display_data",
          "data": {
            "application/vdom.v1+json": {
              "attributes": {},
              "tagName": "h1",
              "children": "switch"
            },
            "text/plain": [
              "<h1 />"
            ]
          },
          "metadata": {}
        },
        {
          "output_type": "display_data",
          "data": {
            "application/vdom.v1+json": {
              "attributes": {},
              "tagName": "h1",
              "children": "symbol"
            },
            "text/plain": [
              "<h1 />"
            ]
          },
          "metadata": {}
        },
        {
          "output_type": "display_data",
          "data": {
            "text/html": [
              "<svg width=\"120\" height=\"140\">\n",
              "<!-- symbol definition  NEVER draw -->\n",
              "<symbol id=\"sym01\" viewBox=\"0 0 150 110\">\n",
              "  <circle cx=\"50\" cy=\"50\" r=\"40\" stroke-width=\"8\"\n",
              "      stroke=\"red\" fill=\"red\"/>\n",
              "  <circle cx=\"90\" cy=\"60\" r=\"40\" stroke-width=\"8\"\n",
              "      stroke=\"green\" fill=\"white\"/>\n",
              "</symbol>\n",
              "\n",
              "<!-- actual drawing by \"use\" element -->\n",
              "<use href=\"#sym01\"\n",
              "     x=\"0\" y=\"0\" width=\"100\" height=\"50\"/>\n",
              "<use href=\"#sym01\"\n",
              "     x=\"0\" y=\"50\" width=\"75\" height=\"38\"/>\n",
              "<use href=\"#sym01\"\n",
              "     x=\"0\" y=\"100\" width=\"50\" height=\"25\"/>\n",
              "</svg>"
            ],
            "text/plain": [
              "<IPython.core.display.HTML object>"
            ]
          },
          "metadata": {}
        },
        {
          "output_type": "display_data",
          "data": {
            "application/vdom.v1+json": {
              "attributes": {},
              "tagName": "h1",
              "children": "text"
            },
            "text/plain": [
              "<h1 />"
            ]
          },
          "metadata": {}
        },
        {
          "output_type": "display_data",
          "data": {
            "text/html": [
              "<svg xmlns=\"http://www.w3.org/2000/svg\"\n",
              "     width=\"500\" height=\"40\" viewBox=\"0 0 500 40\">\n",
              "\n",
              "  <text x=\"0\" y=\"35\" font-family=\"Verdana\" font-size=\"35\">\n",
              "    Hello, out there\n",
              "  </text>\n",
              "</svg>"
            ],
            "text/plain": [
              "<IPython.core.display.HTML object>"
            ]
          },
          "metadata": {}
        },
        {
          "output_type": "display_data",
          "data": {
            "text/html": [
              "<svg xmlns=\"http://www.w3.org/2000/svg\" width=\"180\" height=\"120\">\n",
              "  <text x=\"0\" y=\"20\" transform=\"rotate(30 20,40)\">\n",
              "    SVG Text Rotation example\n",
              "  </text>\n",
              "</svg>"
            ],
            "text/plain": [
              "<IPython.core.display.HTML object>"
            ]
          },
          "metadata": {}
        },
        {
          "output_type": "display_data",
          "data": {
            "text/html": [
              "<svg xmlns=\"http://www.w3.org/2000/svg\" width=\"200\" height=\"30\">\n",
              "  <text x=\"10\" y=\"20\" stroke=\"none\" fill=\"red\">\n",
              "    SVG Colored Text\n",
              "  </text>\n",
              "</svg>"
            ],
            "text/plain": [
              "<IPython.core.display.HTML object>"
            ]
          },
          "metadata": {}
        },
        {
          "output_type": "display_data",
          "data": {
            "text/html": [
              "<svg xmlns=\"http://www.w3.org/2000/svg\" width=\"400\" height=\"60\">\n",
              "  <text x=\"10\" y=\"40\"\n",
              "      style=\"font-family: Times New Roman;\n",
              "             font-size: 44px;\n",
              "             stroke: #00ff00;\n",
              "             fill: #0000ff;\">\n",
              "    SVG text styling\n",
              "  </text>\n",
              "</svg>"
            ],
            "text/plain": [
              "<IPython.core.display.HTML object>"
            ]
          },
          "metadata": {}
        },
        {
          "output_type": "display_data",
          "data": {
            "application/vdom.v1+json": {
              "attributes": {},
              "tagName": "h1",
              "children": "textPath"
            },
            "text/plain": [
              "<h1 />"
            ]
          },
          "metadata": {}
        },
        {
          "output_type": "display_data",
          "data": {
            "text/html": [
              "<svg viewBox=\"0 0 1000 300\"\n",
              "     xmlns=\"http://www.w3.org/2000/svg\" \n",
              "     xmlns:xlink=\"http://www.w3.org/1999/xlink\">\n",
              "  <defs>\n",
              "    <path id=\"MyPath\"\n",
              "          d=\"M 100 200 \n",
              "             C 200 100 300   0 400 100\n",
              "             C 500 200 600 300 700 200\n",
              "             C 800 100 900 100 900 100\" />\n",
              "  </defs>\n",
              "\n",
              "  <use xlink:href=\"#MyPath\" fill=\"none\" stroke=\"red\"  />\n",
              "\n",
              "  <text font-family=\"Verdana\" font-size=\"42.5\">\n",
              "    <textPath xlink:href=\"#MyPath\">\n",
              "      We go up, then we go down, then up again\n",
              "    </textPath>\n",
              "  </text>\n",
              "\n",
              "  <!-- Show outline of the viewport using 'rect' element -->\n",
              "  <rect x=\"1\" y=\"1\" width=\"998\" height=\"298\"\n",
              "        fill=\"none\" stroke=\"black\" stroke-width=\"2\" />\n",
              "</svg>"
            ],
            "text/plain": [
              "<IPython.core.display.HTML object>"
            ]
          },
          "metadata": {}
        },
        {
          "output_type": "display_data",
          "data": {
            "application/vdom.v1+json": {
              "attributes": {},
              "tagName": "h1",
              "children": "title"
            },
            "text/plain": [
              "<h1 />"
            ]
          },
          "metadata": {}
        },
        {
          "output_type": "display_data",
          "data": {
            "application/vdom.v1+json": {
              "attributes": {},
              "tagName": "h1",
              "children": "tref"
            },
            "text/plain": [
              "<h1 />"
            ]
          },
          "metadata": {}
        },
        {
          "output_type": "display_data",
          "data": {
            "application/vdom.v1+json": {
              "attributes": {},
              "tagName": "h1",
              "children": "tspan"
            },
            "text/plain": [
              "<h1 />"
            ]
          },
          "metadata": {}
        },
        {
          "output_type": "display_data",
          "data": {
            "text/html": [
              "<?xml version=\"1.0\"?>\n",
              "<svg width=\"250\" height=\"40\" viewBox=\"0 0 250 40\"\n",
              "    xmlns=\"http://www.w3.org/2000/svg\" version=\"1.1\">\n",
              "\n",
              "  <style>\n",
              "<![CDATA[\n",
              "text{\n",
              "  font: 20px Verdana, Helvetica, Arial, sans-serif;\n",
              "}\n",
              "\n",
              "tspan{\n",
              "  fill: red;\n",
              "  font-weight: bold\n",
              "}\n",
              "]]>\n",
              "  </style>\n",
              "\n",
              "  <text x=\"15\" y=\"30\">\n",
              "    You are \n",
              "    <tspan>not</tspan> \n",
              "    a banana\n",
              "  </text>\n",
              "</svg>"
            ],
            "text/plain": [
              "<IPython.core.display.HTML object>"
            ]
          },
          "metadata": {}
        },
        {
          "output_type": "display_data",
          "data": {
            "application/vdom.v1+json": {
              "attributes": {},
              "tagName": "h1",
              "children": "unknown"
            },
            "text/plain": [
              "<h1 />"
            ]
          },
          "metadata": {}
        },
        {
          "output_type": "display_data",
          "data": {
            "application/vdom.v1+json": {
              "attributes": {},
              "tagName": "h1",
              "children": "use"
            },
            "text/plain": [
              "<h1 />"
            ]
          },
          "metadata": {}
        },
        {
          "output_type": "display_data",
          "data": {
            "application/vdom.v1+json": {
              "attributes": {},
              "tagName": "h1",
              "children": "video"
            },
            "text/plain": [
              "<h1 />"
            ]
          },
          "metadata": {}
        },
        {
          "output_type": "display_data",
          "data": {
            "text/html": [
              "<!-- Simple video example -->\n",
              "<video src=\"videofile.webm\" autoplay poster=\"posterimage.jpg\">\n",
              "Sorry, your browser doesn't support embedded videos, \n",
              "but don't worry, you can <a href=\"videofile.webm\">download it</a>\n",
              "and watch it with your favorite video player!\n",
              "</video>\n",
              "\n",
              "<!-- Video with subtitles -->\n",
              "<video src=\"foo.webm\">\n",
              "  <track kind=\"subtitles\" src=\"foo.en.vtt\" srclang=\"en\"\n",
              "    label=\"English\">\n",
              "  <track kind=\"subtitles\" src=\"foo.sv.vtt\" srclang=\"sv\"\n",
              "    label=\"Svenska\">\n",
              "</video>"
            ],
            "text/plain": [
              "<IPython.core.display.HTML object>"
            ]
          },
          "metadata": {}
        },
        {
          "output_type": "display_data",
          "data": {
            "application/vdom.v1+json": {
              "attributes": {},
              "tagName": "h1",
              "children": "view"
            },
            "text/plain": [
              "<h1 />"
            ]
          },
          "metadata": {}
        },
        {
          "output_type": "display_data",
          "data": {
            "text/html": [
              "<svg width=\"600\" height=\"200\" viewBox=\"0 0 600 200\"\n",
              "    xmlns=\"http://www.w3.org/2000/svg\"\n",
              "    xmlns:xlink=\"http://www.w3.org/1999/xlink\">\n",
              "  <defs>\n",
              "    <radialGradient id=\"gradient\">\n",
              "      <stop offset=\"0%\" stop-color=\"#8cffa0\" />\n",
              "      <stop offset=\"100%\" stop-color=\"#8ca0ff\" />\n",
              "    </radialGradient>    \n",
              "  </defs>\n",
              "\n",
              "  <circle r=\"50\" cx=\"180\" cy=\"50\" style=\"fill:url(#gradient)\"/>\n",
              "\n",
              "  <view id=\"halfSizeView\" viewBox=\"0 0 1200 400\"/>\n",
              "  <view id=\"normalSizeView\" viewBox=\"0 0 600 200\"/>\n",
              "  <view id=\"doubleSizeView\" viewBox=\"0 0 300 100\"/>\n",
              "\n",
              "  <a xlink:href=\"#halfSizeView\">\n",
              "    <text x=\"5\" y=\"20\" font-size=\"20\">half size</text>\n",
              "  </a>\n",
              "  <a xlink:href=\"#normalSizeView\">\n",
              "    <text x=\"5\" y=\"40\" font-size=\"20\">normal size</text>\n",
              "  </a>\n",
              "  <a xlink:href=\"#doubleSizeView\">\n",
              "    <text x=\"5\" y=\"60\" font-size=\"20\">double size</text>\n",
              "  </a>\n",
              "</svg>"
            ],
            "text/plain": [
              "<IPython.core.display.HTML object>"
            ]
          },
          "metadata": {}
        },
        {
          "output_type": "display_data",
          "data": {
            "application/vdom.v1+json": {
              "attributes": {},
              "tagName": "h1",
              "children": "vkern"
            },
            "text/plain": [
              "<h1 />"
            ]
          },
          "metadata": {}
        }
      ],
      "execution_count": 1,
      "metadata": {
        "collapsed": false,
        "outputExpanded": false
      }
    }
  ],
  "metadata": {
    "kernelspec": {
      "name": "python3-vdom",
      "language": "python",
      "display_name": "Python 3 [vdom]"
    },
    "kernel_info": {
      "name": "python3-vdom"
    },
    "language_info": {
      "file_extension": ".py",
      "mimetype": "text/x-python",
      "version": "3.5.3",
      "name": "python",
      "pygments_lexer": "ipython3",
      "codemirror_mode": {
        "name": "ipython",
        "version": 3
      },
      "nbconvert_exporter": "python"
    },
    "nteract": {
      "version": "0.3.1"
    }
  },
  "nbformat": 4,
  "nbformat_minor": 0
}